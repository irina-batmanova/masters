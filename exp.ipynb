{
 "cells": [
  {
   "cell_type": "code",
   "execution_count": 3,
   "metadata": {},
   "outputs": [],
   "source": [
    "import numpy as np\n",
    "from typing import List\n",
    "from collections import defaultdict\n",
    "from itertools import permutations"
   ]
  },
  {
   "cell_type": "markdown",
   "metadata": {},
   "source": [
    "### Класс"
   ]
  },
  {
   "cell_type": "code",
   "execution_count": 4,
   "metadata": {},
   "outputs": [],
   "source": [
    "class AffineFunction:\n",
    "    def __init__(self, coefficients: List[int], domain: Polyhedron):\n",
    "        self.coefs = list(coefficients)\n",
    "        self.domain = domain\n",
    "    \n",
    "    def value(self, x: List[int]):\n",
    "        if x not in self.domain:\n",
    "            raise ValueError(f'{x} is not in function domain {domain.vertices()}')\n",
    "        if len(x) + 1 != len(self.coefs):\n",
    "            raise ValueError(f'Wrong dimension of x: {len(x)}')\n",
    "        return sum([a * b for a, b in zip(self.coefs, x)]) + self.coefs[-1]\n",
    "    \n",
    "    def _coef_str(self, i):\n",
    "        if coef == 0:\n",
    "            return ''\n",
    "        if i + 1 == len(self.coefs):\n",
    "            x_part = ''\n",
    "        else:\n",
    "            x_part = f'x_{i+1}'\n",
    "        if coef == 1:\n",
    "            coef_part = ' + '\n",
    "        elif coef == -1:\n",
    "            coef_part = ' - '\n",
    "        elif coef > 0:\n",
    "            coef_part = f' + {self.coefs[i]}'\n",
    "        else:\n",
    "            coef_part = f' - {-self.coefs[i]}'\n",
    "        return coef_part + x_part\n",
    "           \n",
    "    \n",
    "    def __str__(self):\n",
    "        coefs_repr = []\n",
    "        if len(self.coefs) > 1:\n",
    "            coefs_repr.append(f'{self.coefs[0]}x_1')\n",
    "            for i in range(1, len(self.coefs) - 1):\n",
    "                coefs_repr.append(self._coef_str(i))\n",
    "            coefs_repr.append(str(self.coefs[-1]))\n",
    "        else:\n",
    "            coefs_repr.append(str(self.coefs[-1]))\n",
    "        coefs_repr = \"\".join(coefs_repr)\n",
    "        return f'Affine function {coefs_repr} with domain ' \\\n",
    "                f'{[vert.vector() for vert in self.domain.vertices()]}'"
   ]
  },
  {
   "cell_type": "code",
   "execution_count": 578,
   "metadata": {},
   "outputs": [
    {
     "name": "stdout",
     "output_type": "stream",
     "text": [
      "Affine function 1 with domain [(-1), (1)]\n"
     ]
    }
   ],
   "source": [
    "f = AffineFunction([1], Polyhedron(vertices=[[-1], [1]]))\n",
    "print(f)"
   ]
  },
  {
   "cell_type": "code",
   "execution_count": 579,
   "metadata": {},
   "outputs": [
    {
     "name": "stdout",
     "output_type": "stream",
     "text": [
      "Affine function 1x_11 with domain [(-1), (1)]\n"
     ]
    }
   ],
   "source": [
    "f = AffineFunction([1, 1], Polyhedron(vertices=[[-1], [1]]))\n",
    "print(f)"
   ]
  },
  {
   "cell_type": "code",
   "execution_count": 564,
   "metadata": {},
   "outputs": [],
   "source": [
    "class TestAffineFunctionStr:\n",
    "    def test_const_func(self):\n",
    "        f = AffineFunction([1], Polyhedron(vertices=[[-1], [1]]))\n",
    "        assert f.__str__() == 'Affine function 1 with domain [(-1), (1)]'\n",
    "        \n",
    "    def test_one_arg_func(self):\n",
    "        f = AffineFunction([1, 1], Polyhedron(vertices=[[-1], [1]]))\n",
    "        "
   ]
  },
  {
   "cell_type": "code",
   "execution_count": 565,
   "metadata": {},
   "outputs": [],
   "source": [
    "TestAffineFunctionStr().test_const_func()"
   ]
  },
  {
   "cell_type": "code",
   "execution_count": 5,
   "metadata": {},
   "outputs": [],
   "source": [
    "class PiecewiseAffineFunction:\n",
    "    def __init__(self, affine_pieces: AffineFunction):\n",
    "        # TODO: check regularity\n",
    "        # TODO: check convexity\n",
    "        # TODO: проверить, что значения в вершинах многогранников одинаковые на смежных \n",
    "        # кусках и целые\n",
    "        self.affine_pieces = affine_pieces\n",
    "    \n",
    "    def value(self, x: List[int]):\n",
    "        for piece in self.affine_pieces:\n",
    "            if x in piece.domain:\n",
    "                return piece.value(x)\n",
    "        raise ValueError(f'{x} is not in function domain')\n",
    "    \n",
    "    # TODO: аргументы похожи по смыслу, но имеют разный тип - поправить\n",
    "    def transform(self, phi, phi_inverse):\n",
    "        for j in range(len(self.affine_pieces)):\n",
    "            res = self.affine_pieces[j].coefs[:-1] * phi_inverse\n",
    "            res = res.tolist()[0]\n",
    "            res.append(self.affine_pieces[j].coefs[-1])\n",
    "            self.affine_pieces[j].coefs = res\n",
    "            vertices = []\n",
    "            for vert in self.affine_pieces[j].domain.vertices():\n",
    "                vertices.append(phi(vert._vector))\n",
    "            self.affine_pieces[j].domain = Polyhedron(vertices=vertices)\n",
    "        "
   ]
  },
  {
   "cell_type": "markdown",
   "metadata": {},
   "source": [
    "$f(x_1, x_2) =\n",
    "    \\begin{cases}\n",
    "      x_1 + x_2 + 1 & \\text{if $x_1 \\in [-1, 0], x_2 \\in [-1, 1]$}\\\\\n",
    "      - x_1 + x_2 + 1 & \\text{if $x_1 \\in [0, 1], x_2 \\in [-1, 1]$}\\\\\n",
    "    \\end{cases}   $"
   ]
  },
  {
   "cell_type": "code",
   "execution_count": 537,
   "metadata": {},
   "outputs": [],
   "source": [
    "class CDP:\n",
    "    def __init__(self, psi_list: List[PiecewiseAffineFunction], base: Polyhedron):\n",
    "        # Check that sum of psi is non negative on borders of domains \n",
    "        # (check polytop vertices of domains laying inside of function scope)\n",
    "        for psi in psi_list:\n",
    "            for piece in psi.affine_pieces:\n",
    "                for vert in piece.domain.vertices():\n",
    "                    if vert in base.vertices():\n",
    "                        try:\n",
    "                            s = sum([ps.value(vert.vector) for ps in psi_list])\n",
    "                        except ValueError:\n",
    "                            continue\n",
    "                        else:\n",
    "                            if s <= 0:\n",
    "                                raise ValueError(\n",
    "                                    f'Not a valid CDP - sum of psi is {s} on {vert}')\n",
    "        # Check that sum of psi is non negative on base vertices\n",
    "        for vert in base.vertices():\n",
    "            try:\n",
    "                s = sum([ps.value(vert) for ps in psi_list])\n",
    "            except ValueError:\n",
    "                raise ValueError('Not a valid CDP: psi is not defined on base')\n",
    "            else:\n",
    "                if s < 0:\n",
    "                    raise ValueError(\n",
    "                                    f'Not a valid CDP - sum of psi is {s} on {vert}') \n",
    "        self.psi_list = psi_list\n",
    "        self.base = base\n",
    "        self.n = len(self.base.vertices()[0]._vector)\n",
    "        self.k = len(self.base.vertices())\n",
    "        # TODO: is there a better solution for vertices traversal?\n",
    "        self.base_adjacency_map = defaultdict(set)\n",
    "        \n",
    "    def _build_adjacency_map(self):\n",
    "        for i in range(k):\n",
    "            for j in range(i + 1, k):\n",
    "                if self.base.vertices()[i].is_incident(self.base.vertices()[j]):\n",
    "                    self.base_adjacency_map[i].insert(j)\n",
    "                    self.base_adjacency_map[j].insert(i)\n",
    "    \n",
    "    def transform_base(self, phi: linear_transformation):\n",
    "#         if len(phi.matrix()) != len(self.base.vertices()[0]._vector):\n",
    "#             raise ValueError(f'Wrong dimension of phi: {len(phi.matrix())}')\n",
    "        vertices = []\n",
    "        for vert in self.base.vertices():\n",
    "            vertices.append(phi(vert._vector))\n",
    "        self.base = Polyhedron(vertices=vertices)\n",
    "        inv = phi.inverse().matrix()\n",
    "        # TODO: optimize\n",
    "        inv = np.array([np.array(row) for row in inv])\n",
    "        for i in range(len(self.psi_list)):\n",
    "            self.psi_list[i].transform(phi, inv)\n",
    "    \n",
    "    def translate(self, alpha_list: List[int]):\n",
    "        if len(alpha_list) != len(self.psi_list):\n",
    "            raise ValueError(f'Length of alpha_list is {len(alpha_list)}, '\n",
    "                             f'should be {len(self.psi_list)}')\n",
    "        if sum(alpha_list) != 0:\n",
    "            raise ValueError('Sum of coefficients should be 0')\n",
    "        for idx, psi in enumerate(self.psi_list):\n",
    "            for piece in psi.affine_pieces:\n",
    "                piece.coefs[-1] += alpha_list[idx]\n",
    "    \n",
    "    def shear(self, beta_list: List[int], v: List[int]):\n",
    "        if len(beta_list) != len(self.psi_list):\n",
    "            raise ValueError(f'Length of beta_list is {len(beta_list)}, '\n",
    "                             f'should be {len(self.phi_list)}')\n",
    "        if sum(beta_list) != 0:\n",
    "            raise ValueError('Sum of coefficients should be 0')\n",
    "        for idx, psi in enumerate(self.psi_list):\n",
    "            for piece in psi.affine_pieces:\n",
    "                for j, coef in enumerate(v):\n",
    "                    piece.coefs[j] += coef * beta_list[idx]\n",
    "    \n",
    "    def _vert_permutation_is_valid(self, perm):\n",
    "        '''Check that vertices permutation saves incidence\n",
    "        '''\n",
    "        for vert, inc_list in self.base_adjacency_map.items():\n",
    "            for other_vert in inc_list:\n",
    "                if not perm[other_vert] in self.base_adjacency_map[perm[vert]]:\n",
    "                    return False\n",
    "        return True\n",
    "    \n",
    "    def _get_transform_matrix(self, points, point_images):\n",
    "        left = np.matmul(points.T, points)  \n",
    "        try:\n",
    "            inverse = np.linalg.inv(left)\n",
    "        except np.linalg.LinAlgError:\n",
    "            raise ValueError(f'Base of the CDP should be non-degenerate '\n",
    "                             f'(dimension {self.n} is provided, but '\n",
    "                             'the real dimension is lower)')\n",
    "        A = np.matmul(np.matmul(point_images, points), inverse)\n",
    "        return A\n",
    "    \n",
    "    def _apply_transform_to_psi(self, phi, phi_inverse):\n",
    "        pass\n",
    "                    \n",
    "    def equal(self, other_cdp: CDP):\n",
    "        # Check that self.base is convertible to other_cdp.base with some phi\n",
    "        # Check that sum(psi_i) stays the same on whole base (check on vertices)\n",
    "        if len(self.base.vertices()) != len(other_cdp.base.vertices()):\n",
    "            print(\"lengths are different\")\n",
    "            return False\n",
    "        G = np.array([np.array(vert._vector) for vert in other_cdp.base.vertices()])\n",
    "        G = G.T\n",
    "        for perm in permutations([i for i in range(self.k)]):  \n",
    "            print(\"perm \", perm)\n",
    "            if not self._vert_permutation_is_valid(perm):\n",
    "                print(\"perm not valid\")\n",
    "                continue\n",
    "            V = np.array([np.array(self.base.vertices()[i]._vector) for i in perm])\n",
    "            # A transforms base of one CDP to the base of another\n",
    "            A = self._get_transform_matrix(V, G)\n",
    "            print(A)\n",
    "            try:\n",
    "                A_inv = np.linalg.inv(A)\n",
    "            except np.linalg.LinAlgError:\n",
    "                continue\n",
    "            print(A_inv)\n",
    "            A = linear_transformation(matrix(QQ, A))\n",
    "            psi_list = []\n",
    "            for p in self.psi_list:\n",
    "                psi = deepcopy(p)\n",
    "                psi.transform(A, A_inv)\n",
    "#                 print(\"transformed psi \", psi.affine_pieces[0].domain, \n",
    "#                       psi.affine_pieces[0].domain)\n",
    "                psi_list.append(psi)\n",
    "            \n",
    "            all_sums_are_equal = True\n",
    "            for j, i in enumerate(perm):\n",
    "                print(self.base.vertices()[i], other_cdp.base.vertices()[j])\n",
    "                sum1 = sum([p.value(self.base.vertices()[i]) for p in psi_list])\n",
    "                sum2 = sum([p.value(other_cdp.base.vertices()[j]) for p in other_cdp.psi_list])\n",
    "                print(sum1, sum2)\n",
    "                if sum1 != sum2:\n",
    "                    all_sums_are_equal = False\n",
    "            if all_sums_are_equal:\n",
    "                return True\n",
    "        return False"
   ]
  },
  {
   "cell_type": "markdown",
   "metadata": {},
   "source": [
    "### Пример невалидного CDP"
   ]
  },
  {
   "cell_type": "code",
   "execution_count": 319,
   "metadata": {},
   "outputs": [],
   "source": [
    "base = Polyhedron(vertices=[[-1], [1]])\n",
    "# y = x, x \\in [-1, 0]\n",
    "f_11 = AffineFunction((1, 0), Polyhedron(vertices=[[-1], [0]]))\n",
    "# y = -x, x \\in [0, 1]\n",
    "f_12 = AffineFunction((-1, 0), Polyhedron(vertices=[[0], [1]]))\n",
    "f_1 = PiecewiseAffineFunction([f_11, f_12])\n",
    "# y = 1/2x - 1/2, x \\in [-1, 1]\n",
    "f_2 = PiecewiseAffineFunction([AffineFunction((1/2, -1/2), Polyhedron(vertices=[[-1], [1]]))])"
   ]
  },
  {
   "cell_type": "code",
   "execution_count": 320,
   "metadata": {},
   "outputs": [
    {
     "ename": "ValueError",
     "evalue": "Not a valid CDP - sum of psi is negative on A vertex at (-1)",
     "output_type": "error",
     "traceback": [
      "\u001b[0;31m---------------------------------------------------------------------------\u001b[0m",
      "\u001b[0;31mValueError\u001b[0m                                Traceback (most recent call last)",
      "\u001b[0;32m<ipython-input-320-172309ec941a>\u001b[0m in \u001b[0;36m<module>\u001b[0;34m\u001b[0m\n\u001b[0;32m----> 1\u001b[0;31m \u001b[0mcdp\u001b[0m \u001b[0;34m=\u001b[0m \u001b[0mCDP\u001b[0m\u001b[0;34m(\u001b[0m\u001b[0;34m[\u001b[0m\u001b[0mf_1\u001b[0m\u001b[0;34m,\u001b[0m \u001b[0mf_2\u001b[0m\u001b[0;34m]\u001b[0m\u001b[0;34m,\u001b[0m \u001b[0mbase\u001b[0m\u001b[0;34m)\u001b[0m\u001b[0;34m\u001b[0m\u001b[0;34m\u001b[0m\u001b[0m\n\u001b[0m",
      "\u001b[0;32m<ipython-input-318-0b74d1d2be93>\u001b[0m in \u001b[0;36m__init__\u001b[0;34m(self, psi_list, base)\u001b[0m\n\u001b[1;32m     23\u001b[0m             \u001b[0;32melse\u001b[0m\u001b[0;34m:\u001b[0m\u001b[0;34m\u001b[0m\u001b[0;34m\u001b[0m\u001b[0m\n\u001b[1;32m     24\u001b[0m                 \u001b[0;32mif\u001b[0m \u001b[0ms\u001b[0m \u001b[0;34m<\u001b[0m \u001b[0mInteger\u001b[0m\u001b[0;34m(\u001b[0m\u001b[0;36m0\u001b[0m\u001b[0;34m)\u001b[0m\u001b[0;34m:\u001b[0m\u001b[0;34m\u001b[0m\u001b[0;34m\u001b[0m\u001b[0m\n\u001b[0;32m---> 25\u001b[0;31m                     raise ValueError(\n\u001b[0m\u001b[1;32m     26\u001b[0m                                     f'Not a valid CDP - sum of psi is negative on {vert}') \n\u001b[1;32m     27\u001b[0m         \u001b[0mself\u001b[0m\u001b[0;34m.\u001b[0m\u001b[0mpsi_list\u001b[0m \u001b[0;34m=\u001b[0m \u001b[0mpsi_list\u001b[0m\u001b[0;34m\u001b[0m\u001b[0;34m\u001b[0m\u001b[0m\n",
      "\u001b[0;31mValueError\u001b[0m: Not a valid CDP - sum of psi is negative on A vertex at (-1)"
     ]
    }
   ],
   "source": [
    "cdp = CDP([f_1, f_2], base)"
   ]
  },
  {
   "cell_type": "markdown",
   "metadata": {},
   "source": [
    "### Пример валидного CDP"
   ]
  },
  {
   "cell_type": "code",
   "execution_count": 499,
   "metadata": {},
   "outputs": [],
   "source": [
    "base = Polyhedron(vertices=[[-1], [1]])\n",
    "# y = x + 1, x \\in [-1, 0]\n",
    "f_11 = AffineFunction((1, 1), Polyhedron(vertices=[[-1], [0]]))\n",
    "# y = -x + 1, x \\in [0, 1]\n",
    "f_12 = AffineFunction((-1, 1), Polyhedron(vertices=[[0], [1]]))\n",
    "f_1 = PiecewiseAffineFunction([f_11, f_12])\n",
    "# y = 1/2x + 1/2, x \\in [-1, 1]\n",
    "f_2 = PiecewiseAffineFunction([AffineFunction((1/2, 1/2), Polyhedron(vertices=[[-1], [1]]))])"
   ]
  },
  {
   "cell_type": "code",
   "execution_count": 500,
   "metadata": {},
   "outputs": [],
   "source": [
    "cdp = CDP([f_1, f_2], base)"
   ]
  },
  {
   "cell_type": "code",
   "execution_count": 501,
   "metadata": {},
   "outputs": [
    {
     "data": {
      "text/plain": [
       "[1, 1]"
      ]
     },
     "execution_count": 501,
     "metadata": {},
     "output_type": "execute_result"
    }
   ],
   "source": [
    "cdp.psi_list[0].affine_pieces[0].coefs"
   ]
  },
  {
   "cell_type": "markdown",
   "metadata": {},
   "source": [
    "### Примеры трансформаций"
   ]
  },
  {
   "cell_type": "code",
   "execution_count": 502,
   "metadata": {},
   "outputs": [
    {
     "name": "stdout",
     "output_type": "stream",
     "text": [
      "[2, 1]\n",
      "[-1/2, 1/2]\n"
     ]
    }
   ],
   "source": [
    "cdp.shear([-1, 1], [-1])\n",
    "print(cdp.psi_list[0].affine_pieces[0].coefs)\n",
    "print(cdp.psi_list[1].affine_pieces[0].coefs)"
   ]
  },
  {
   "cell_type": "code",
   "execution_count": 503,
   "metadata": {},
   "outputs": [
    {
     "name": "stdout",
     "output_type": "stream",
     "text": [
      "[2, 2]\n",
      "[-1/2, -1/2]\n"
     ]
    }
   ],
   "source": [
    "cdp.translate([1, -1])\n",
    "print(cdp.psi_list[0].affine_pieces[0].coefs)\n",
    "print(cdp.psi_list[1].affine_pieces[0].coefs)"
   ]
  },
  {
   "cell_type": "code",
   "execution_count": 504,
   "metadata": {},
   "outputs": [
    {
     "name": "stdout",
     "output_type": "stream",
     "text": [
      "<class 'sage.modules.vector_space_morphism.VectorSpaceMorphism'>\n",
      "<class 'numpy.ndarray'>\n",
      "<class 'sage.modules.vector_space_morphism.VectorSpaceMorphism'>\n",
      "<class 'numpy.ndarray'>\n"
     ]
    }
   ],
   "source": [
    "A = matrix(ZZ, [[-1]])\n",
    "phi = linear_transformation(A)\n",
    "cdp.transform_base(phi)"
   ]
  },
  {
   "cell_type": "code",
   "execution_count": 497,
   "metadata": {},
   "outputs": [
    {
     "name": "stdout",
     "output_type": "stream",
     "text": [
      "[-2, 2]\n",
      "(A vertex at (0), A vertex at (1))\n",
      "[0.5, -1/2]\n",
      "(A vertex at (-1), A vertex at (1))\n"
     ]
    }
   ],
   "source": [
    "print(cdp.psi_list[0].affine_pieces[0].coefs)\n",
    "print(cdp.psi_list[0].affine_pieces[0].domain.vertices())\n",
    "print(cdp.psi_list[1].affine_pieces[0].coefs)\n",
    "print(cdp.psi_list[1].affine_pieces[0].domain.vertices())\n"
   ]
  },
  {
   "cell_type": "markdown",
   "metadata": {},
   "source": [
    "### Эквивалентность CDP"
   ]
  },
  {
   "cell_type": "code",
   "execution_count": 538,
   "metadata": {},
   "outputs": [],
   "source": [
    "base1 = Polyhedron(vertices=[[-1], [1]])\n",
    "# y = x + 1, x \\in [-1, 0]\n",
    "f_11 = AffineFunction((1, 1), Polyhedron(vertices=[[-1], [0]]))\n",
    "# y = -x + 1, x \\in [0, 1]\n",
    "f_12 = AffineFunction((-1, 1), Polyhedron(vertices=[[0], [1]]))\n",
    "f_1 = PiecewiseAffineFunction([f_11, f_12])\n",
    "# y = 1/2x + 1/2, x \\in [-1, 1]\n",
    "f_2 = PiecewiseAffineFunction([AffineFunction((1/2, 1/2), Polyhedron(vertices=[[-1], [1]]))])\n",
    "cdp1 = CDP([f_1, f_2], base1)"
   ]
  },
  {
   "cell_type": "code",
   "execution_count": 539,
   "metadata": {},
   "outputs": [],
   "source": [
    "base2 = Polyhedron(vertices=[[-1], [1]])\n",
    "# y = 2, x \\in [-1, 0]\n",
    "y_11 = AffineFunction((0, 2), Polyhedron(vertices=[[-1], [0]]))\n",
    "# y = -2x + 2, x \\in [0, 1]\n",
    "y_12 = AffineFunction((-2, 2), Polyhedron(vertices=[[0], [1]]))\n",
    "y_1 = PiecewiseAffineFunction([y_11, y_12])\n",
    "# y = 1/2x - 1/2, x \\in [-1, 1]\n",
    "y_2 = PiecewiseAffineFunction([AffineFunction((1/2, -1/2), Polyhedron(vertices=[[-1], [1]]))])\n",
    "cdp2 = CDP([y_1, y_2], base2)"
   ]
  },
  {
   "cell_type": "code",
   "execution_count": 540,
   "metadata": {},
   "outputs": [
    {
     "name": "stdout",
     "output_type": "stream",
     "text": [
      "perm  (0, 1)\n",
      "[[1.]]\n",
      "[[1.]]\n",
      "A vertex at (-1) A vertex at (-1)\n",
      "0.0 1\n",
      "A vertex at (1) A vertex at (1)\n",
      "1.0 0\n",
      "perm  (1, 0)\n",
      "[[-1.]]\n",
      "[[-1.]]\n",
      "A vertex at (1) A vertex at (-1)\n",
      "0.0 1\n",
      "A vertex at (-1) A vertex at (1)\n",
      "1.0 0\n"
     ]
    },
    {
     "data": {
      "text/plain": [
       "False"
      ]
     },
     "execution_count": 540,
     "metadata": {},
     "output_type": "execute_result"
    }
   ],
   "source": [
    "cdp1.equal(cdp2)"
   ]
  },
  {
   "cell_type": "code",
   "execution_count": null,
   "metadata": {},
   "outputs": [],
   "source": []
  },
  {
   "cell_type": "code",
   "execution_count": null,
   "metadata": {},
   "outputs": [],
   "source": []
  },
  {
   "cell_type": "code",
   "execution_count": null,
   "metadata": {},
   "outputs": [],
   "source": []
  },
  {
   "cell_type": "code",
   "execution_count": null,
   "metadata": {},
   "outputs": [],
   "source": []
  },
  {
   "cell_type": "code",
   "execution_count": null,
   "metadata": {},
   "outputs": [],
   "source": []
  }
 ],
 "metadata": {
  "kernelspec": {
   "display_name": "SageMath 9.4",
   "language": "sage",
   "name": "sagemath-9.4"
  },
  "language_info": {
   "codemirror_mode": {
    "name": "ipython",
    "version": 3
   },
   "file_extension": ".py",
   "mimetype": "text/x-python",
   "name": "python",
   "nbconvert_exporter": "python",
   "pygments_lexer": "ipython3",
   "version": "3.9.5"
  }
 },
 "nbformat": 4,
 "nbformat_minor": 4
}
